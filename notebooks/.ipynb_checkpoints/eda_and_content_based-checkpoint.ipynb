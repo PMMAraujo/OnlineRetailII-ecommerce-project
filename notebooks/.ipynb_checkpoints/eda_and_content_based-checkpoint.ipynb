{
 "cells": [
  {
   "cell_type": "markdown",
   "metadata": {
    "Collapsed": "false"
   },
   "source": [
    "# Introduction"
   ]
  },
  {
   "cell_type": "markdown",
   "metadata": {
    "Collapsed": "false"
   },
   "source": [
    "In this project I'm going to work with the dataset [\"Online Retail II Data Set\"](https://archive.ics.uci.edu/ml/datasets/Online+Retail+II), from the UCI Machine Learning repository, analyzing and processing it so it can be used to build recommender systems. The reason I decided to work on this dataset is because, contrary to the majority of the recommender systems projects online, it doesn't have customer ratings of products. Instead this dataset user-item interactions are the amounts bought. Moreover, this dataset is well organized but requires some cleaning and evaluation, making it more challenging to tackle and therefore more interesting.\n",
    "\n",
    "This project is divided in two parts, this is the first one and the second can be found [here](https://github.com/PMMAraujo/OnlineRetailII-ecommerce-project/blob/master/notebooks/collaborative_filtering.ipynb). The objective here is to get to know this data, identify errors or missing annotations and perform the necessary transformations to use this data to build collaborative filtering models. Furthermore, at the end of the preprocessing some implementations of content-based similarity models (not really recommender systems) are going to be implemented solely based on the products names. In the [second part](https://github.com/PMMAraujo/OnlineRetailII-ecommerce-project/blob/master/notebooks/collaborative_filtering.ipynb) I implement some memory-based and model-based collaborative filtering approaches."
   ]
  },
  {
   "cell_type": "markdown",
   "metadata": {
    "Collapsed": "false"
   },
   "source": [
    "# Import data and initial statistics"
   ]
  },
  {
   "cell_type": "code",
   "execution_count": 3,
   "metadata": {
    "Collapsed": "false",
    "ExecuteTime": {
     "end_time": "2020-06-18T10:37:36.290304Z",
     "start_time": "2020-06-18T10:35:58.273834Z"
    }
   },
   "outputs": [
    {
     "name": "stdout",
     "output_type": "stream",
     "text": [
      "Dataset shape after reading in: (525461, 8)\n",
      "\n",
      "Dataset info after reading in:\n",
      "<class 'pandas.core.frame.DataFrame'>\n",
      "RangeIndex: 525461 entries, 0 to 525460\n",
      "Data columns (total 8 columns):\n",
      " #   Column       Non-Null Count   Dtype         \n",
      "---  ------       --------------   -----         \n",
      " 0   Invoice      525461 non-null  object        \n",
      " 1   StockCode    525461 non-null  object        \n",
      " 2   Description  522533 non-null  object        \n",
      " 3   Quantity     525461 non-null  int64         \n",
      " 4   InvoiceDate  525461 non-null  datetime64[ns]\n",
      " 5   Price        525461 non-null  float64       \n",
      " 6   Customer ID  417534 non-null  float64       \n",
      " 7   Country      525461 non-null  object        \n",
      "dtypes: datetime64[ns](1), float64(2), int64(1), object(4)\n",
      "memory usage: 32.1+ MB\n",
      "\n",
      " After reading-in the head of the dataset looks like this:\n"
     ]
    }
   ],
   "source": [
    "import pandas as pd\n",
    "import numpy as np\n",
    "\n",
    "# data source: https://archive.ics.uci.edu/ml/datasets/Online+Retail+II\n",
    "# please download the dataset from the source\n",
    "df = pd.read_excel('data/online_retail_II.xlsx')\n",
    "\n",
    "print(f\"Dataset shape after reading in: {df.shape}\\n\")\n",
    "print(\"Dataset info after reading in:\")\n",
    "df.info()\n",
    "print(\"\\n After reading-in the head of the dataset looks like this:\")"
   ]
  },
  {
   "cell_type": "code",
   "execution_count": 4,
   "metadata": {
    "Collapsed": "false",
    "ExecuteTime": {
     "end_time": "2020-06-18T10:37:36.353903Z",
     "start_time": "2020-06-18T10:37:36.317799Z"
    }
   },
   "outputs": [
    {
     "data": {
      "text/html": [
       "<div>\n",
       "<style scoped>\n",
       "    .dataframe tbody tr th:only-of-type {\n",
       "        vertical-align: middle;\n",
       "    }\n",
       "\n",
       "    .dataframe tbody tr th {\n",
       "        vertical-align: top;\n",
       "    }\n",
       "\n",
       "    .dataframe thead th {\n",
       "        text-align: right;\n",
       "    }\n",
       "</style>\n",
       "<table border=\"1\" class=\"dataframe\">\n",
       "  <thead>\n",
       "    <tr style=\"text-align: right;\">\n",
       "      <th></th>\n",
       "      <th>Invoice</th>\n",
       "      <th>StockCode</th>\n",
       "      <th>Description</th>\n",
       "      <th>Quantity</th>\n",
       "      <th>InvoiceDate</th>\n",
       "      <th>Price</th>\n",
       "      <th>Customer ID</th>\n",
       "      <th>Country</th>\n",
       "    </tr>\n",
       "  </thead>\n",
       "  <tbody>\n",
       "    <tr>\n",
       "      <th>0</th>\n",
       "      <td>489434</td>\n",
       "      <td>85048</td>\n",
       "      <td>15CM CHRISTMAS GLASS BALL 20 LIGHTS</td>\n",
       "      <td>12</td>\n",
       "      <td>2009-12-01 07:45:00</td>\n",
       "      <td>6.95</td>\n",
       "      <td>13085.0</td>\n",
       "      <td>United Kingdom</td>\n",
       "    </tr>\n",
       "    <tr>\n",
       "      <th>1</th>\n",
       "      <td>489434</td>\n",
       "      <td>79323P</td>\n",
       "      <td>PINK CHERRY LIGHTS</td>\n",
       "      <td>12</td>\n",
       "      <td>2009-12-01 07:45:00</td>\n",
       "      <td>6.75</td>\n",
       "      <td>13085.0</td>\n",
       "      <td>United Kingdom</td>\n",
       "    </tr>\n",
       "    <tr>\n",
       "      <th>2</th>\n",
       "      <td>489434</td>\n",
       "      <td>79323W</td>\n",
       "      <td>WHITE CHERRY LIGHTS</td>\n",
       "      <td>12</td>\n",
       "      <td>2009-12-01 07:45:00</td>\n",
       "      <td>6.75</td>\n",
       "      <td>13085.0</td>\n",
       "      <td>United Kingdom</td>\n",
       "    </tr>\n",
       "    <tr>\n",
       "      <th>3</th>\n",
       "      <td>489434</td>\n",
       "      <td>22041</td>\n",
       "      <td>RECORD FRAME 7\" SINGLE SIZE</td>\n",
       "      <td>48</td>\n",
       "      <td>2009-12-01 07:45:00</td>\n",
       "      <td>2.10</td>\n",
       "      <td>13085.0</td>\n",
       "      <td>United Kingdom</td>\n",
       "    </tr>\n",
       "    <tr>\n",
       "      <th>4</th>\n",
       "      <td>489434</td>\n",
       "      <td>21232</td>\n",
       "      <td>STRAWBERRY CERAMIC TRINKET BOX</td>\n",
       "      <td>24</td>\n",
       "      <td>2009-12-01 07:45:00</td>\n",
       "      <td>1.25</td>\n",
       "      <td>13085.0</td>\n",
       "      <td>United Kingdom</td>\n",
       "    </tr>\n",
       "  </tbody>\n",
       "</table>\n",
       "</div>"
      ],
      "text/plain": [
       "  Invoice StockCode                          Description  Quantity  \\\n",
       "0  489434     85048  15CM CHRISTMAS GLASS BALL 20 LIGHTS        12   \n",
       "1  489434    79323P                   PINK CHERRY LIGHTS        12   \n",
       "2  489434    79323W                  WHITE CHERRY LIGHTS        12   \n",
       "3  489434     22041         RECORD FRAME 7\" SINGLE SIZE         48   \n",
       "4  489434     21232       STRAWBERRY CERAMIC TRINKET BOX        24   \n",
       "\n",
       "          InvoiceDate  Price  Customer ID         Country  \n",
       "0 2009-12-01 07:45:00   6.95      13085.0  United Kingdom  \n",
       "1 2009-12-01 07:45:00   6.75      13085.0  United Kingdom  \n",
       "2 2009-12-01 07:45:00   6.75      13085.0  United Kingdom  \n",
       "3 2009-12-01 07:45:00   2.10      13085.0  United Kingdom  \n",
       "4 2009-12-01 07:45:00   1.25      13085.0  United Kingdom  "
      ]
     },
     "execution_count": 4,
     "metadata": {},
     "output_type": "execute_result"
    }
   ],
   "source": [
    "df.head()"
   ]
  },
  {
   "cell_type": "markdown",
   "metadata": {
    "Collapsed": "false"
   },
   "source": [
    "The dataset has 525461 data points (rows) with 8 features(columns): \"Invoice\"; \"StockCode\"; \"Description\"; \"Quantity\"; \"InvoiceDate\"; \"Price\"; \"Customer ID\"; \"Country\". There is some missing data for the feature \"Customer ID\". The column \"Invoice\" should be numeric not object type, according to the dataset description. The features more important to a recommender system are going to be the \"StockCode\" - representing the item ID for this dataset; the \"Customer ID\"; the \"Quantity\" which is going to be used as the numeric feature encompassing the user-item interaction. The \"Description\" of the items is going to be used for the content-based approach. The \"Invoice\" is going to be analyzed due to the unexpected data type previously mentioned."
   ]
  },
  {
   "cell_type": "markdown",
   "metadata": {
    "Collapsed": "false"
   },
   "source": [
    "# Data Preparation"
   ]
  },
  {
   "cell_type": "markdown",
   "metadata": {
    "Collapsed": "false"
   },
   "source": [
    "## Invoice feature"
   ]
  },
  {
   "cell_type": "markdown",
   "metadata": {
    "Collapsed": "false"
   },
   "source": [
    "In the dataset description it is mentioned that if the invoice code starts with the letter 'C' it refers to a cancellation. The The cancellation's data is very interesting and may have insights in the buyers behavior, however for the current project this data is not the most relevant and therefore is going to be excluded."
   ]
  },
  {
   "cell_type": "code",
   "execution_count": 5,
   "metadata": {
    "Collapsed": "false",
    "ExecuteTime": {
     "end_time": "2020-06-18T10:37:36.907038Z",
     "start_time": "2020-06-18T10:37:36.377249Z"
    }
   },
   "outputs": [
    {
     "name": "stdout",
     "output_type": "stream",
     "text": [
      "There were 10206 data points corresponding to cancelations.\n"
     ]
    }
   ],
   "source": [
    "filter_canceled = df['Invoice'].apply(lambda x: str(x)[0] == 'C')\n",
    "processed_df = df[~filter_canceled]\n",
    "\n",
    "print(f\"There were {filter_canceled.sum()} data points corresponding to cancelations.\")"
   ]
  },
  {
   "cell_type": "markdown",
   "metadata": {
    "Collapsed": "false"
   },
   "source": [
    "In the description of this feature it is also mentioned that it should comprise only 6 digit unique ids, lets see if this checks out."
   ]
  },
  {
   "cell_type": "code",
   "execution_count": 70,
   "metadata": {
    "Collapsed": "false",
    "ExecuteTime": {
     "end_time": "2020-06-18T14:18:15.419035Z",
     "start_time": "2020-06-18T14:18:14.908356Z"
    }
   },
   "outputs": [
    {
     "name": "stdout",
     "output_type": "stream",
     "text": [
      "Seems like these assumptions are not meet for 3 cases, which seem to be well explained in the 'Description' column as not real purchase operations:\n"
     ]
    },
    {
     "data": {
      "text/html": [
       "<div>\n",
       "<style scoped>\n",
       "    .dataframe tbody tr th:only-of-type {\n",
       "        vertical-align: middle;\n",
       "    }\n",
       "\n",
       "    .dataframe tbody tr th {\n",
       "        vertical-align: top;\n",
       "    }\n",
       "\n",
       "    .dataframe thead th {\n",
       "        text-align: right;\n",
       "    }\n",
       "</style>\n",
       "<table border=\"1\" class=\"dataframe\">\n",
       "  <thead>\n",
       "    <tr style=\"text-align: right;\">\n",
       "      <th></th>\n",
       "      <th>Invoice</th>\n",
       "      <th>StockCode</th>\n",
       "      <th>Description</th>\n",
       "      <th>Quantity</th>\n",
       "      <th>InvoiceDate</th>\n",
       "      <th>Price</th>\n",
       "      <th>Customer ID</th>\n",
       "      <th>Country</th>\n",
       "      <th>imputed_costumer_id</th>\n",
       "      <th>q_max</th>\n",
       "      <th>quantity_norm</th>\n",
       "      <th>quantity_log</th>\n",
       "    </tr>\n",
       "  </thead>\n",
       "  <tbody>\n",
       "  </tbody>\n",
       "</table>\n",
       "</div>"
      ],
      "text/plain": [
       "Empty DataFrame\n",
       "Columns: [Invoice, StockCode, Description, Quantity, InvoiceDate, Price, Customer ID, Country, imputed_costumer_id, q_max, quantity_norm, quantity_log]\n",
       "Index: []"
      ]
     },
     "execution_count": 70,
     "metadata": {},
     "output_type": "execute_result"
    }
   ],
   "source": [
    "not_in_format = processed_df['Invoice'].apply(lambda x: isinstance(x, int))\n",
    "not_in_format1 = processed_df['Invoice'].apply(lambda x: len(str(x)) != 6)\n",
    "\n",
    "print(\"Seems like these assumptions are not meet for 3 cases, which seem to be \\\n",
    "well explained in the 'Description' column as not real purchase operations:\")\n",
    "#print((processed_df.shape[0] - not_in_format.sum(), not_in_format1.sum()))\n",
    "processed_df[(~not_in_format) | (not_in_format1)]"
   ]
  },
  {
   "cell_type": "code",
   "execution_count": 7,
   "metadata": {
    "Collapsed": "false",
    "ExecuteTime": {
     "end_time": "2020-06-18T10:37:37.643733Z",
     "start_time": "2020-06-18T10:37:37.575969Z"
    }
   },
   "outputs": [
    {
     "name": "stdout",
     "output_type": "stream",
     "text": [
      "So lets exclude those.\n"
     ]
    }
   ],
   "source": [
    "print(\"So lets exclude those.\")\n",
    "processed_df = processed_df[not_in_format]\n",
    "#processed_df.shape"
   ]
  },
  {
   "cell_type": "markdown",
   "metadata": {
    "Collapsed": "false"
   },
   "source": [
    "What about this number being a unique identifier?"
   ]
  },
  {
   "cell_type": "code",
   "execution_count": 6,
   "metadata": {
    "Collapsed": "false"
   },
   "outputs": [
    {
     "data": {
      "text/html": [
       "<div>\n",
       "<style scoped>\n",
       "    .dataframe tbody tr th:only-of-type {\n",
       "        vertical-align: middle;\n",
       "    }\n",
       "\n",
       "    .dataframe tbody tr th {\n",
       "        vertical-align: top;\n",
       "    }\n",
       "\n",
       "    .dataframe thead th {\n",
       "        text-align: right;\n",
       "    }\n",
       "</style>\n",
       "<table border=\"1\" class=\"dataframe\">\n",
       "  <thead>\n",
       "    <tr style=\"text-align: right;\">\n",
       "      <th></th>\n",
       "      <th>Invoice</th>\n",
       "      <th>StockCode</th>\n",
       "      <th>Description</th>\n",
       "      <th>Quantity</th>\n",
       "      <th>InvoiceDate</th>\n",
       "      <th>Price</th>\n",
       "      <th>Customer ID</th>\n",
       "      <th>Country</th>\n",
       "    </tr>\n",
       "  </thead>\n",
       "  <tbody>\n",
       "    <tr>\n",
       "      <th>516208</th>\n",
       "      <td>537434</td>\n",
       "      <td>20685</td>\n",
       "      <td>DOORMAT RED RETROSPOT</td>\n",
       "      <td>1</td>\n",
       "      <td>2010-12-06 16:57:00</td>\n",
       "      <td>14.43</td>\n",
       "      <td>NaN</td>\n",
       "      <td>United Kingdom</td>\n",
       "    </tr>\n",
       "    <tr>\n",
       "      <th>516209</th>\n",
       "      <td>537434</td>\n",
       "      <td>20699</td>\n",
       "      <td>MOUSEY LONG LEGS SOFT TOY</td>\n",
       "      <td>1</td>\n",
       "      <td>2010-12-06 16:57:00</td>\n",
       "      <td>5.06</td>\n",
       "      <td>NaN</td>\n",
       "      <td>United Kingdom</td>\n",
       "    </tr>\n",
       "    <tr>\n",
       "      <th>516210</th>\n",
       "      <td>537434</td>\n",
       "      <td>20713</td>\n",
       "      <td>JUMBO BAG OWLS</td>\n",
       "      <td>1</td>\n",
       "      <td>2010-12-06 16:57:00</td>\n",
       "      <td>4.21</td>\n",
       "      <td>NaN</td>\n",
       "      <td>United Kingdom</td>\n",
       "    </tr>\n",
       "    <tr>\n",
       "      <th>516211</th>\n",
       "      <td>537434</td>\n",
       "      <td>20719</td>\n",
       "      <td>WOODLAND CHARLOTTE BAG</td>\n",
       "      <td>3</td>\n",
       "      <td>2010-12-06 16:57:00</td>\n",
       "      <td>1.66</td>\n",
       "      <td>NaN</td>\n",
       "      <td>United Kingdom</td>\n",
       "    </tr>\n",
       "    <tr>\n",
       "      <th>516212</th>\n",
       "      <td>537434</td>\n",
       "      <td>20725</td>\n",
       "      <td>LUNCH BAG RED RETROSPOT</td>\n",
       "      <td>4</td>\n",
       "      <td>2010-12-06 16:57:00</td>\n",
       "      <td>4.21</td>\n",
       "      <td>NaN</td>\n",
       "      <td>United Kingdom</td>\n",
       "    </tr>\n",
       "  </tbody>\n",
       "</table>\n",
       "</div>"
      ],
      "text/plain": [
       "       Invoice StockCode                Description  Quantity  \\\n",
       "516208  537434     20685      DOORMAT RED RETROSPOT         1   \n",
       "516209  537434     20699  MOUSEY LONG LEGS SOFT TOY         1   \n",
       "516210  537434     20713             JUMBO BAG OWLS         1   \n",
       "516211  537434     20719     WOODLAND CHARLOTTE BAG         3   \n",
       "516212  537434     20725    LUNCH BAG RED RETROSPOT         4   \n",
       "\n",
       "               InvoiceDate  Price  Customer ID         Country  \n",
       "516208 2010-12-06 16:57:00  14.43          NaN  United Kingdom  \n",
       "516209 2010-12-06 16:57:00   5.06          NaN  United Kingdom  \n",
       "516210 2010-12-06 16:57:00   4.21          NaN  United Kingdom  \n",
       "516211 2010-12-06 16:57:00   1.66          NaN  United Kingdom  \n",
       "516212 2010-12-06 16:57:00   4.21          NaN  United Kingdom  "
      ]
     },
     "execution_count": 6,
     "metadata": {},
     "output_type": "execute_result"
    }
   ],
   "source": [
    "processed_df[processed_df['Invoice'] == 537434].head()"
   ]
  },
  {
   "cell_type": "markdown",
   "metadata": {
    "Collapsed": "false"
   },
   "source": [
    "Apparently the same invoice number appears several times in different purchases. I don't think this is due to an annotation error, it seems like purchases with multiple items were annotated in different rows, which makes sense. Therefore no alterations are needed here."
   ]
  },
  {
   "cell_type": "markdown",
   "metadata": {
    "Collapsed": "false"
   },
   "source": [
    "## StockCode feature - the Item Id"
   ]
  },
  {
   "cell_type": "markdown",
   "metadata": {
    "Collapsed": "false"
   },
   "source": [
    "According to the dataset description this must be a 5-digit integer, unique for each product."
   ]
  },
  {
   "cell_type": "code",
   "execution_count": 8,
   "metadata": {
    "Collapsed": "false",
    "ExecuteTime": {
     "end_time": "2020-06-18T10:38:59.000238Z",
     "start_time": "2020-06-18T10:38:58.736309Z"
    }
   },
   "outputs": [
    {
     "name": "stdout",
     "output_type": "stream",
     "text": [
      "There are 77922 entries that do not respect the 5-digit rule.\n"
     ]
    },
    {
     "data": {
      "text/html": [
       "<div>\n",
       "<style scoped>\n",
       "    .dataframe tbody tr th:only-of-type {\n",
       "        vertical-align: middle;\n",
       "    }\n",
       "\n",
       "    .dataframe tbody tr th {\n",
       "        vertical-align: top;\n",
       "    }\n",
       "\n",
       "    .dataframe thead th {\n",
       "        text-align: right;\n",
       "    }\n",
       "</style>\n",
       "<table border=\"1\" class=\"dataframe\">\n",
       "  <thead>\n",
       "    <tr style=\"text-align: right;\">\n",
       "      <th></th>\n",
       "      <th>Invoice</th>\n",
       "      <th>StockCode</th>\n",
       "      <th>Description</th>\n",
       "      <th>Quantity</th>\n",
       "      <th>InvoiceDate</th>\n",
       "      <th>Price</th>\n",
       "      <th>Customer ID</th>\n",
       "      <th>Country</th>\n",
       "    </tr>\n",
       "  </thead>\n",
       "  <tbody>\n",
       "    <tr>\n",
       "      <th>1</th>\n",
       "      <td>489434</td>\n",
       "      <td>79323P</td>\n",
       "      <td>PINK CHERRY LIGHTS</td>\n",
       "      <td>12</td>\n",
       "      <td>2009-12-01 07:45:00</td>\n",
       "      <td>6.75</td>\n",
       "      <td>13085.0</td>\n",
       "      <td>United Kingdom</td>\n",
       "    </tr>\n",
       "    <tr>\n",
       "      <th>2</th>\n",
       "      <td>489434</td>\n",
       "      <td>79323W</td>\n",
       "      <td>WHITE CHERRY LIGHTS</td>\n",
       "      <td>12</td>\n",
       "      <td>2009-12-01 07:45:00</td>\n",
       "      <td>6.75</td>\n",
       "      <td>13085.0</td>\n",
       "      <td>United Kingdom</td>\n",
       "    </tr>\n",
       "    <tr>\n",
       "      <th>12</th>\n",
       "      <td>489436</td>\n",
       "      <td>48173C</td>\n",
       "      <td>DOOR MAT BLACK FLOCK</td>\n",
       "      <td>10</td>\n",
       "      <td>2009-12-01 09:06:00</td>\n",
       "      <td>5.95</td>\n",
       "      <td>13078.0</td>\n",
       "      <td>United Kingdom</td>\n",
       "    </tr>\n",
       "    <tr>\n",
       "      <th>23</th>\n",
       "      <td>489436</td>\n",
       "      <td>35004B</td>\n",
       "      <td>SET OF 3 BLACK FLYING DUCKS</td>\n",
       "      <td>12</td>\n",
       "      <td>2009-12-01 09:06:00</td>\n",
       "      <td>4.65</td>\n",
       "      <td>13078.0</td>\n",
       "      <td>United Kingdom</td>\n",
       "    </tr>\n",
       "    <tr>\n",
       "      <th>28</th>\n",
       "      <td>489436</td>\n",
       "      <td>84596F</td>\n",
       "      <td>SMALL MARSHMALLOWS PINK BOWL</td>\n",
       "      <td>8</td>\n",
       "      <td>2009-12-01 09:06:00</td>\n",
       "      <td>1.25</td>\n",
       "      <td>13078.0</td>\n",
       "      <td>United Kingdom</td>\n",
       "    </tr>\n",
       "  </tbody>\n",
       "</table>\n",
       "</div>"
      ],
      "text/plain": [
       "   Invoice StockCode                   Description  Quantity  \\\n",
       "1   489434    79323P            PINK CHERRY LIGHTS        12   \n",
       "2   489434    79323W           WHITE CHERRY LIGHTS        12   \n",
       "12  489436    48173C         DOOR MAT BLACK FLOCK         10   \n",
       "23  489436    35004B   SET OF 3 BLACK FLYING DUCKS        12   \n",
       "28  489436    84596F  SMALL MARSHMALLOWS PINK BOWL         8   \n",
       "\n",
       "           InvoiceDate  Price  Customer ID         Country  \n",
       "1  2009-12-01 07:45:00   6.75      13085.0  United Kingdom  \n",
       "2  2009-12-01 07:45:00   6.75      13085.0  United Kingdom  \n",
       "12 2009-12-01 09:06:00   5.95      13078.0  United Kingdom  \n",
       "23 2009-12-01 09:06:00   4.65      13078.0  United Kingdom  \n",
       "28 2009-12-01 09:06:00   1.25      13078.0  United Kingdom  "
      ]
     },
     "execution_count": 8,
     "metadata": {},
     "output_type": "execute_result"
    }
   ],
   "source": [
    "isint = processed_df['StockCode'].apply(lambda x: isinstance(x, int))\n",
    "\n",
    "print(f\"There are {processed_df.shape[0] - isint.sum()} entries that do not respect the 5-digit rule.\")\n",
    "processed_df[~isint].head()"
   ]
  },
  {
   "cell_type": "markdown",
   "metadata": {
    "Collapsed": "false"
   },
   "source": [
    "It seems that several items have the same 5-digit code followed by a different letter. This most likely is a consequence of listing the same item but with some feature optional. Like the color in the cases \"PINK CHERRY LIGHTS\" and \"WHITE CHERRY LIGHTS\", sharing the same code but with the letters 'P' and 'W' respectively, which are the first letters of the item's color.\n",
    "\n",
    "The question is should I collapse all items with the same 5-digit code but different letters  under a single item?\n",
    "\n",
    "Does it matter if I am suggesting to a buyer a pink or white item? Yes, it does! Let's say that a buyer is decorating a bedroom with a specific color pallet around pink, that buyer will be more susceptible to a suggested item within his desired color pallet. If enough buyers have a \"thematic buying pattern\" in the dataset it is possible that any future models build upon this dataset will be able to pick this knowledge. Anyways, the collapsing of data leads to an information loss which I really want to avoid.\n",
    "So, the answer is no, collapsing seems like a bad idea here."
   ]
  },
  {
   "cell_type": "markdown",
   "metadata": {
    "Collapsed": "false"
   },
   "source": [
    "But do all the entries in \"StockCode\" column respect the 5-digits and/or letter?"
   ]
  },
  {
   "cell_type": "code",
   "execution_count": 9,
   "metadata": {
    "Collapsed": "false",
    "ExecuteTime": {
     "end_time": "2020-06-18T10:43:52.992715Z",
     "start_time": "2020-06-18T10:43:52.384064Z"
    }
   },
   "outputs": [
    {
     "name": "stdout",
     "output_type": "stream",
     "text": [
      "There are 2469 entries whose the 'StockCode' does not respect the 5 digit rule.\n"
     ]
    },
    {
     "data": {
      "text/html": [
       "<div>\n",
       "<style scoped>\n",
       "    .dataframe tbody tr th:only-of-type {\n",
       "        vertical-align: middle;\n",
       "    }\n",
       "\n",
       "    .dataframe tbody tr th {\n",
       "        vertical-align: top;\n",
       "    }\n",
       "\n",
       "    .dataframe thead th {\n",
       "        text-align: right;\n",
       "    }\n",
       "</style>\n",
       "<table border=\"1\" class=\"dataframe\">\n",
       "  <thead>\n",
       "    <tr style=\"text-align: right;\">\n",
       "      <th></th>\n",
       "      <th>Invoice</th>\n",
       "      <th>StockCode</th>\n",
       "      <th>Description</th>\n",
       "      <th>Quantity</th>\n",
       "      <th>InvoiceDate</th>\n",
       "      <th>Price</th>\n",
       "      <th>Customer ID</th>\n",
       "      <th>Country</th>\n",
       "    </tr>\n",
       "  </thead>\n",
       "  <tbody>\n",
       "    <tr>\n",
       "      <th>89</th>\n",
       "      <td>489439</td>\n",
       "      <td>POST</td>\n",
       "      <td>POSTAGE</td>\n",
       "      <td>3</td>\n",
       "      <td>2009-12-01 09:28:00</td>\n",
       "      <td>18.0</td>\n",
       "      <td>12682.0</td>\n",
       "      <td>France</td>\n",
       "    </tr>\n",
       "    <tr>\n",
       "      <th>126</th>\n",
       "      <td>489444</td>\n",
       "      <td>POST</td>\n",
       "      <td>POSTAGE</td>\n",
       "      <td>1</td>\n",
       "      <td>2009-12-01 09:55:00</td>\n",
       "      <td>141.0</td>\n",
       "      <td>12636.0</td>\n",
       "      <td>USA</td>\n",
       "    </tr>\n",
       "    <tr>\n",
       "      <th>173</th>\n",
       "      <td>489447</td>\n",
       "      <td>POST</td>\n",
       "      <td>POSTAGE</td>\n",
       "      <td>1</td>\n",
       "      <td>2009-12-01 10:10:00</td>\n",
       "      <td>130.0</td>\n",
       "      <td>12362.0</td>\n",
       "      <td>Belgium</td>\n",
       "    </tr>\n",
       "    <tr>\n",
       "      <th>625</th>\n",
       "      <td>489526</td>\n",
       "      <td>POST</td>\n",
       "      <td>POSTAGE</td>\n",
       "      <td>6</td>\n",
       "      <td>2009-12-01 11:50:00</td>\n",
       "      <td>18.0</td>\n",
       "      <td>12533.0</td>\n",
       "      <td>Germany</td>\n",
       "    </tr>\n",
       "    <tr>\n",
       "      <th>1244</th>\n",
       "      <td>489557</td>\n",
       "      <td>POST</td>\n",
       "      <td>POSTAGE</td>\n",
       "      <td>4</td>\n",
       "      <td>2009-12-01 12:52:00</td>\n",
       "      <td>18.0</td>\n",
       "      <td>12490.0</td>\n",
       "      <td>France</td>\n",
       "    </tr>\n",
       "  </tbody>\n",
       "</table>\n",
       "</div>"
      ],
      "text/plain": [
       "     Invoice StockCode Description  Quantity         InvoiceDate  Price  \\\n",
       "89    489439      POST     POSTAGE         3 2009-12-01 09:28:00   18.0   \n",
       "126   489444      POST     POSTAGE         1 2009-12-01 09:55:00  141.0   \n",
       "173   489447      POST     POSTAGE         1 2009-12-01 10:10:00  130.0   \n",
       "625   489526      POST     POSTAGE         6 2009-12-01 11:50:00   18.0   \n",
       "1244  489557      POST     POSTAGE         4 2009-12-01 12:52:00   18.0   \n",
       "\n",
       "      Customer ID  Country  \n",
       "89        12682.0   France  \n",
       "126       12636.0      USA  \n",
       "173       12362.0  Belgium  \n",
       "625       12533.0  Germany  \n",
       "1244      12490.0   France  "
      ]
     },
     "execution_count": 9,
     "metadata": {},
     "output_type": "execute_result"
    }
   ],
   "source": [
    "isnumeric = processed_df['StockCode'].apply(lambda x: str(x)[:5].isnumeric())\n",
    "\n",
    "print(f\"There are {processed_df[~isnumeric].shape[0]} entries whose 'StockCode' doesn’t respect the 5 digit rule.\")\n",
    "processed_df[~isnumeric].head()"
   ]
  },
  {
   "cell_type": "markdown",
   "metadata": {
    "Collapsed": "false"
   },
   "source": [
    "These cases are atypical in the sense they don't follow the dataset established rules for this feature. Fortunately, there is only a small number of data points like this so lets remove them. Maybe I will explore this later."
   ]
  },
  {
   "cell_type": "code",
   "execution_count": 10,
   "metadata": {
    "Collapsed": "false",
    "ExecuteTime": {
     "end_time": "2020-06-18T11:41:05.118793Z",
     "start_time": "2020-06-18T11:41:05.049001Z"
    }
   },
   "outputs": [],
   "source": [
    "processed_df = processed_df[isnumeric]\n",
    "#processed_df.shape"
   ]
  },
  {
   "cell_type": "markdown",
   "metadata": {
    "Collapsed": "false"
   },
   "source": [
    "## Customer ID feature - the User ID"
   ]
  },
  {
   "cell_type": "code",
   "execution_count": 11,
   "metadata": {
    "Collapsed": "false",
    "ExecuteTime": {
     "end_time": "2020-06-18T11:41:09.257939Z",
     "start_time": "2020-06-18T11:41:09.193999Z"
    }
   },
   "outputs": [
    {
     "name": "stdout",
     "output_type": "stream",
     "text": [
      "26.200830373865127% of the data point have missing 'Customer ID'\n"
     ]
    }
   ],
   "source": [
    "no_client = processed_df[processed_df['Customer ID'].isnull()]\n",
    "with_client = processed_df[~processed_df['Customer ID'].isnull()]\n",
    "\n",
    "print(f\"{no_client.shape[0] * 100 / with_client.shape[0]}% of the data point have missing 'Customer ID'\")"
   ]
  },
  {
   "cell_type": "markdown",
   "metadata": {
    "Collapsed": "false"
   },
   "source": [
    "Unfortunately more than 1/4 of the dataset has an absent \"Customer ID\". This is too much data to simply ignore. Lets figure out a way to impute this data with some degree of confidence."
   ]
  },
  {
   "cell_type": "markdown",
   "metadata": {
    "Collapsed": "false"
   },
   "source": [
    "### Customer ID data imputation"
   ]
  },
  {
   "cell_type": "markdown",
   "metadata": {
    "Collapsed": "false"
   },
   "source": [
    "My first idea is to infer the customer identifier from the \"Invoice\", the logic is that purchases with the same invoice were made by the same user. This is based on the assumption that there was a problem with the data annotation, like data loss. If the missing \"Customer ID\" fields are due to unregistered users, or users that asked to get their information removed this approach is not going to work."
   ]
  },
  {
   "cell_type": "code",
   "execution_count": 71,
   "metadata": {
    "Collapsed": "false",
    "ExecuteTime": {
     "end_time": "2020-06-18T14:43:41.063943Z",
     "start_time": "2020-06-18T14:43:38.297534Z"
    }
   },
   "outputs": [
    {
     "name": "stdout",
     "output_type": "stream",
     "text": [
      "There are 0 overlapping entries between those with and without 'Customer ID' regarding the 'Invoice'\n"
     ]
    }
   ],
   "source": [
    "invoice_no_client = no_client['Invoice'].unique()\n",
    "invoice_with_client = with_client['Invoice'].unique()\n",
    "\n",
    "cross_cust_id = [x for x in invoice_no_client if x in invoice_with_client]\n",
    "\n",
    "print(f\"There are {len(cross_cust_id)} overlapping entries between those with \\\n",
    "and without 'Customer ID' regarding the 'Invoice'\")"
   ]
  },
  {
   "cell_type": "code",
   "execution_count": 12,
   "metadata": {
    "Collapsed": "false"
   },
   "outputs": [
    {
     "data": {
      "text/plain": [
       "(18966, 1506)"
      ]
     },
     "execution_count": 12,
     "metadata": {},
     "output_type": "execute_result"
    }
   ],
   "source": [
    "group_c_i = with_client['Customer ID'].groupby(with_client['Invoice']).count()\n",
    "n_dif_c = group_c_i.shape[0]\n",
    "n_c_only1_purchase = sum(group_c_i == 1)\n",
    "n_dif_c, n_c_only1_purchase"
   ]
  },
  {
   "cell_type": "markdown",
   "metadata": {
    "Collapsed": "false"
   },
   "source": [
    "Therefore the imputation of the missing customer IDs can't be based on their invoice data. However, artificial customer IDs could be created with the assumption that each invoice (each purchase) corresponds to a different user with a one time only purchase. This is not true for many cases, in fact only 1506 of the 18966 Customers with ID are one time purchase (less than 10%). Anyways, this approximation seems better than losing this data. The new feature will be called \"imputed_costumer_id\"."
   ]
  },
  {
   "cell_type": "code",
   "execution_count": 13,
   "metadata": {
    "Collapsed": "false",
    "ExecuteTime": {
     "end_time": "2020-06-18T11:47:21.088511Z",
     "start_time": "2020-06-18T11:47:20.881416Z"
    }
   },
   "outputs": [],
   "source": [
    "unique_invoice = no_client['Invoice'].unique()\n",
    "\n",
    "mapper = {}\n",
    "for i in range(len(unique_invoice)):\n",
    "    mapper[unique_invoice[i]] = f'imp{i}'\n",
    "    \n",
    "imputed_customer = processed_df['Invoice'].map(mapper)\n",
    "new_costumers = processed_df['Customer ID'].combine_first(imputed_customer)\n",
    "processed_df['imputed_costumer_id'] = new_costumers"
   ]
  },
  {
   "cell_type": "code",
   "execution_count": 14,
   "metadata": {
    "Collapsed": "false",
    "ExecuteTime": {
     "end_time": "2020-06-18T11:47:21.816445Z",
     "start_time": "2020-06-18T11:47:21.637953Z"
    }
   },
   "outputs": [
    {
     "name": "stdout",
     "output_type": "stream",
     "text": [
      "Now the data looks like:\n",
      "<class 'pandas.core.frame.DataFrame'>\n",
      "Int64Index: 512783 entries, 0 to 525460\n",
      "Data columns (total 9 columns):\n",
      " #   Column               Non-Null Count   Dtype         \n",
      "---  ------               --------------   -----         \n",
      " 0   Invoice              512783 non-null  object        \n",
      " 1   StockCode            512783 non-null  object        \n",
      " 2   Description          509903 non-null  object        \n",
      " 3   Quantity             512783 non-null  int64         \n",
      " 4   InvoiceDate          512783 non-null  datetime64[ns]\n",
      " 5   Price                512783 non-null  float64       \n",
      " 6   Customer ID          406323 non-null  float64       \n",
      " 7   Country              512783 non-null  object        \n",
      " 8   imputed_costumer_id  512783 non-null  object        \n",
      "dtypes: datetime64[ns](1), float64(2), int64(1), object(5)\n",
      "memory usage: 39.1+ MB\n"
     ]
    }
   ],
   "source": [
    "print(\"Now the data looks like:\")\n",
    "processed_df.info()"
   ]
  },
  {
   "cell_type": "markdown",
   "metadata": {
    "Collapsed": "false"
   },
   "source": [
    "## Quantity feature - the metric feature"
   ]
  },
  {
   "cell_type": "code",
   "execution_count": 15,
   "metadata": {
    "Collapsed": "false",
    "ExecuteTime": {
     "end_time": "2020-06-18T11:48:06.770517Z",
     "start_time": "2020-06-18T11:48:06.726510Z"
    }
   },
   "outputs": [
    {
     "name": "stdout",
     "output_type": "stream",
     "text": [
      "The mean value for this feature is:    11.001532812125207\n",
      "The median value for this feature is:  3.0\n",
      "The minimum value for this feature is: -9600\n",
      "The maximum value for this feature is: 19152\n"
     ]
    }
   ],
   "source": [
    "print(f\"The mean value for this feature is:    {processed_df['Quantity'].mean()}\\n\\\n",
    "The median value for this feature is:  {processed_df['Quantity'].median()}\\n\\\n",
    "The minimum value for this feature is: {processed_df['Quantity'].min()}\\n\\\n",
    "The maximum value for this feature is: {processed_df['Quantity'].max()}\")"
   ]
  },
  {
   "cell_type": "markdown",
   "metadata": {
    "Collapsed": "false"
   },
   "source": [
    "There are obvious issues with this feature, negative values for an amount should not exist (supposedly I already took the cancellations out). Moreover, the data seem extremely skewed with a very high maximum. First let's look at the data points with negative values."
   ]
  },
  {
   "cell_type": "code",
   "execution_count": 16,
   "metadata": {
    "Collapsed": "false",
    "ExecuteTime": {
     "end_time": "2020-06-18T11:49:45.441217Z",
     "start_time": "2020-06-18T11:49:45.426667Z"
    }
   },
   "outputs": [
    {
     "data": {
      "text/html": [
       "<div>\n",
       "<style scoped>\n",
       "    .dataframe tbody tr th:only-of-type {\n",
       "        vertical-align: middle;\n",
       "    }\n",
       "\n",
       "    .dataframe tbody tr th {\n",
       "        vertical-align: top;\n",
       "    }\n",
       "\n",
       "    .dataframe thead th {\n",
       "        text-align: right;\n",
       "    }\n",
       "</style>\n",
       "<table border=\"1\" class=\"dataframe\">\n",
       "  <thead>\n",
       "    <tr style=\"text-align: right;\">\n",
       "      <th></th>\n",
       "      <th>Invoice</th>\n",
       "      <th>StockCode</th>\n",
       "      <th>Description</th>\n",
       "      <th>Quantity</th>\n",
       "      <th>InvoiceDate</th>\n",
       "      <th>Price</th>\n",
       "      <th>Customer ID</th>\n",
       "      <th>Country</th>\n",
       "      <th>imputed_costumer_id</th>\n",
       "    </tr>\n",
       "  </thead>\n",
       "  <tbody>\n",
       "    <tr>\n",
       "      <th>263</th>\n",
       "      <td>489464</td>\n",
       "      <td>21733</td>\n",
       "      <td>85123a mixed</td>\n",
       "      <td>-96</td>\n",
       "      <td>2009-12-01 10:52:00</td>\n",
       "      <td>0.0</td>\n",
       "      <td>NaN</td>\n",
       "      <td>United Kingdom</td>\n",
       "      <td>imp0</td>\n",
       "    </tr>\n",
       "    <tr>\n",
       "      <th>283</th>\n",
       "      <td>489463</td>\n",
       "      <td>71477</td>\n",
       "      <td>short</td>\n",
       "      <td>-240</td>\n",
       "      <td>2009-12-01 10:52:00</td>\n",
       "      <td>0.0</td>\n",
       "      <td>NaN</td>\n",
       "      <td>United Kingdom</td>\n",
       "      <td>imp1</td>\n",
       "    </tr>\n",
       "    <tr>\n",
       "      <th>284</th>\n",
       "      <td>489467</td>\n",
       "      <td>85123A</td>\n",
       "      <td>21733 mixed</td>\n",
       "      <td>-192</td>\n",
       "      <td>2009-12-01 10:53:00</td>\n",
       "      <td>0.0</td>\n",
       "      <td>NaN</td>\n",
       "      <td>United Kingdom</td>\n",
       "      <td>imp2</td>\n",
       "    </tr>\n",
       "    <tr>\n",
       "      <th>470</th>\n",
       "      <td>489521</td>\n",
       "      <td>21646</td>\n",
       "      <td>NaN</td>\n",
       "      <td>-50</td>\n",
       "      <td>2009-12-01 11:44:00</td>\n",
       "      <td>0.0</td>\n",
       "      <td>NaN</td>\n",
       "      <td>United Kingdom</td>\n",
       "      <td>imp3</td>\n",
       "    </tr>\n",
       "    <tr>\n",
       "      <th>3114</th>\n",
       "      <td>489655</td>\n",
       "      <td>20683</td>\n",
       "      <td>NaN</td>\n",
       "      <td>-44</td>\n",
       "      <td>2009-12-01 17:26:00</td>\n",
       "      <td>0.0</td>\n",
       "      <td>NaN</td>\n",
       "      <td>United Kingdom</td>\n",
       "      <td>imp25</td>\n",
       "    </tr>\n",
       "  </tbody>\n",
       "</table>\n",
       "</div>"
      ],
      "text/plain": [
       "     Invoice StockCode   Description  Quantity         InvoiceDate  Price  \\\n",
       "263   489464     21733  85123a mixed       -96 2009-12-01 10:52:00    0.0   \n",
       "283   489463     71477         short      -240 2009-12-01 10:52:00    0.0   \n",
       "284   489467    85123A   21733 mixed      -192 2009-12-01 10:53:00    0.0   \n",
       "470   489521     21646           NaN       -50 2009-12-01 11:44:00    0.0   \n",
       "3114  489655     20683           NaN       -44 2009-12-01 17:26:00    0.0   \n",
       "\n",
       "      Customer ID         Country imputed_costumer_id  \n",
       "263           NaN  United Kingdom                imp0  \n",
       "283           NaN  United Kingdom                imp1  \n",
       "284           NaN  United Kingdom                imp2  \n",
       "470           NaN  United Kingdom                imp3  \n",
       "3114          NaN  United Kingdom               imp25  "
      ]
     },
     "execution_count": 16,
     "metadata": {},
     "output_type": "execute_result"
    }
   ],
   "source": [
    "less_than_0_items = processed_df[processed_df['Quantity'] < 0]\n",
    "\n",
    "less_than_0_items.head()"
   ]
  },
  {
   "cell_type": "markdown",
   "metadata": {
    "Collapsed": "false"
   },
   "source": [
    "Apparently the cases with the value for \"Quantity\" inferior to 0 have the \"Price\" as also 0 and the Customer ID is absent. Initially I thought these were cases of devolutions, but seeing that the Customer data is absent the amount of information that these data points contain is scarce. Therefore, this information is going to be excluded. Moreover, this data is unlikely to be related with buying patterns, being instead related with customer satisfaction and its experience, which is an all other topic."
   ]
  },
  {
   "cell_type": "code",
   "execution_count": 17,
   "metadata": {
    "Collapsed": "false",
    "ExecuteTime": {
     "end_time": "2020-06-18T11:54:34.971083Z",
     "start_time": "2020-06-18T11:54:34.913128Z"
    }
   },
   "outputs": [],
   "source": [
    "processed_df = processed_df[~(processed_df['Quantity'] < 0)]\n",
    "#processed_df.shape"
   ]
  },
  {
   "cell_type": "markdown",
   "metadata": {
    "Collapsed": "false"
   },
   "source": [
    "Let's find out who bought the most of any items!"
   ]
  },
  {
   "cell_type": "code",
   "execution_count": 18,
   "metadata": {
    "Collapsed": "false",
    "ExecuteTime": {
     "end_time": "2020-06-18T11:54:47.111666Z",
     "start_time": "2020-06-18T11:54:47.092483Z"
    }
   },
   "outputs": [
    {
     "data": {
      "text/html": [
       "<div>\n",
       "<style scoped>\n",
       "    .dataframe tbody tr th:only-of-type {\n",
       "        vertical-align: middle;\n",
       "    }\n",
       "\n",
       "    .dataframe tbody tr th {\n",
       "        vertical-align: top;\n",
       "    }\n",
       "\n",
       "    .dataframe thead th {\n",
       "        text-align: right;\n",
       "    }\n",
       "</style>\n",
       "<table border=\"1\" class=\"dataframe\">\n",
       "  <thead>\n",
       "    <tr style=\"text-align: right;\">\n",
       "      <th></th>\n",
       "      <th>Invoice</th>\n",
       "      <th>StockCode</th>\n",
       "      <th>Description</th>\n",
       "      <th>Quantity</th>\n",
       "      <th>InvoiceDate</th>\n",
       "      <th>Price</th>\n",
       "      <th>Customer ID</th>\n",
       "      <th>Country</th>\n",
       "      <th>imputed_costumer_id</th>\n",
       "    </tr>\n",
       "  </thead>\n",
       "  <tbody>\n",
       "    <tr>\n",
       "      <th>90857</th>\n",
       "      <td>497946</td>\n",
       "      <td>37410</td>\n",
       "      <td>BLACK AND WHITE PAISLEY FLOWER MUG</td>\n",
       "      <td>19152</td>\n",
       "      <td>2010-02-15 11:57:00</td>\n",
       "      <td>0.1</td>\n",
       "      <td>13902.0</td>\n",
       "      <td>Denmark</td>\n",
       "      <td>13902</td>\n",
       "    </tr>\n",
       "  </tbody>\n",
       "</table>\n",
       "</div>"
      ],
      "text/plain": [
       "      Invoice StockCode                         Description  Quantity  \\\n",
       "90857  497946     37410  BLACK AND WHITE PAISLEY FLOWER MUG     19152   \n",
       "\n",
       "              InvoiceDate  Price  Customer ID  Country imputed_costumer_id  \n",
       "90857 2010-02-15 11:57:00    0.1      13902.0  Denmark               13902  "
      ]
     },
     "execution_count": 18,
     "metadata": {},
     "output_type": "execute_result"
    }
   ],
   "source": [
    "q_max = processed_df['Quantity'].max()\n",
    "processed_df[processed_df['Quantity'] == q_max]"
   ]
  },
  {
   "cell_type": "markdown",
   "metadata": {
    "Collapsed": "false"
   },
   "source": [
    "After googling \"BLACK AND WHITE PAISLEY FLOWER MUG\" I have to recognize that they are indeed pretty and I'm now thinking about buying one.\n",
    "\n",
    "This data point highlights something really important about this dataset, some of the quantities bought are really high. Let's check it."
   ]
  },
  {
   "cell_type": "code",
   "execution_count": 21,
   "metadata": {
    "Collapsed": "false",
    "ExecuteTime": {
     "end_time": "2020-06-18T11:56:29.034996Z",
     "start_time": "2020-06-18T11:56:28.713365Z"
    }
   },
   "outputs": [
    {
     "data": {
      "image/png": "[encoded data removed]",
      "text/plain": [
       "<Figure size 432x288 with 1 Axes>"
      ]
     },
     "metadata": {},
     "output_type": "display_data"
    }
   ],
   "source": [
    "import matplotlib.pyplot as plt\n",
    "import seaborn as sns\n",
    "sns.set_style(\"whitegrid\")\n",
    "\n",
    "sns.distplot( a=processed_df['Quantity'], hist=False, kde=True )\n",
    "plt.show()"
   ]
  },
  {
   "cell_type": "code",
   "execution_count": 22,
   "metadata": {
    "Collapsed": "false",
    "ExecuteTime": {
     "end_time": "2020-06-18T11:56:36.644130Z",
     "start_time": "2020-06-18T11:56:36.616940Z"
    }
   },
   "outputs": [
    {
     "name": "stdout",
     "output_type": "stream",
     "text": [
      "Number of purchases with quantity less than 10: 363847\n",
      "Number of purchases with quantity between 10 and 100 : 139788\n",
      "Number of purchases with quantity between 100 and 1000 : 6792\n",
      "Number of purchases with quantity higher than 1000 : 254\n"
     ]
    }
   ],
   "source": [
    "print(f\"Number of purchases with quantity less than 10: \\\n",
    "{((processed_df['Quantity'] < 10) & (processed_df['Quantity'] >= 1)).sum()}\\n\\\n",
    "Number of purchases with quantity between 10 and 100 : \\\n",
    "{((processed_df['Quantity'] < 100) & (processed_df['Quantity'] >= 10)).sum()}\\n\\\n",
    "Number of purchases with quantity between 100 and 1000 : \\\n",
    "{((processed_df['Quantity'] < 1000) & (processed_df['Quantity'] >= 100)).sum()}\\n\\\n",
    "Number of purchases with quantity higher than 1000 : \\\n",
    "{(processed_df['Quantity'] >= 1000).sum()}\")"
   ]
  },
  {
   "cell_type": "markdown",
   "metadata": {
    "Collapsed": "false"
   },
   "source": [
    "The vast majority of the purchases are in quantities inferior to 10. However, there is an interesting amount of purchases with quantities above 10. Looking at this data I hypothesized that there are 3 main types of buyers, regarding the quantity purchased:\n",
    "- individual buyers -  most likely buy only for themselves;\n",
    "- small business - buy in bulk;\n",
    "- large business - buy in bulk, most likely for very large projects or to resell."
   ]
  },
  {
   "cell_type": "markdown",
   "metadata": {
    "Collapsed": "false"
   },
   "source": [
    "In the light of this hypothesis the \"Quantity\" data could be converted to a categorical feature with 3 classes. However since this data will be used to create recommender systems models, like collaborative filtering, it seems odd to do such transformation. This feature is too skewed and in a format that is not ideal for the desired modeling. Therefore some transformation needs to be applied, I thought about normalizing the data and log transforming it. The log transformation is going to be log(a+1) because 0 is a possible value of this feature."
   ]
  },
  {
   "cell_type": "code",
   "execution_count": 23,
   "metadata": {
    "Collapsed": "false",
    "ExecuteTime": {
     "end_time": "2020-06-18T11:59:49.756186Z",
     "start_time": "2020-06-18T11:59:48.543687Z"
    }
   },
   "outputs": [],
   "source": [
    "## Normalize by user\n",
    "\n",
    "# infer the max quantities for each user and a df with that information\n",
    "q_max = processed_df['Quantity'].groupby(processed_df['imputed_costumer_id']).max()\n",
    "quantity_df = pd.DataFrame()\n",
    "quantity_df['q_max'] = q_max\n",
    "\n",
    "# merge that new information with the df at work\n",
    "processed_df = processed_df.merge(quantity_df, on='imputed_costumer_id').copy()\n",
    "\n",
    "# perform the normalization\n",
    "# x/xmax is the normalization formula used because 0 is a value of x\n",
    "processed_df['quantity_norm'] = processed_df['Quantity'] / processed_df['q_max']\n",
    "\n",
    "# Log Transformation\n",
    "# here log(x+1) is applied because 0 in x\n",
    "processed_df['quantity_log'] = processed_df['Quantity'].apply(lambda x: np.log(x+1))"
   ]
  },
  {
   "cell_type": "code",
   "execution_count": 43,
   "metadata": {
    "Collapsed": "false",
    "ExecuteTime": {
     "end_time": "2020-06-18T12:18:26.815194Z",
     "start_time": "2020-06-18T12:18:26.212114Z"
    }
   },
   "outputs": [
    {
     "data": {
      "image/png": "[encoded data removed]",
      "text/plain": [
       "<Figure size 1080x360 with 2 Axes>"
      ]
     },
     "metadata": {},
     "output_type": "display_data"
    }
   ],
   "source": [
    "fig, axs = plt.subplots(ncols=2, figsize=(15,5))\n",
    "sns.distplot(a=processed_df['quantity_norm'], hist=False, kde=True, ax=axs[0]).set_title('Normalization')\n",
    "sns.distplot(a=processed_df['quantity_log'], hist=False, kde=True, ax=axs[1]).set_title('Log+1 Transformation')\n",
    "plt.show()"
   ]
  },
  {
   "cell_type": "markdown",
   "metadata": {
    "Collapsed": "false"
   },
   "source": [
    "Both transformations improved, a bit, the distribution of the data but it still remains pretty skewed.\n",
    "I decided to use the log transformed data because its range is between 0 and 10 while the normalized data is between 0 and 1. I am afraid that the small scale of the normalized data does not allow a fine-grained separation of the data and consequently lead to poor model performance."
   ]
  },
  {
   "cell_type": "markdown",
   "metadata": {
    "Collapsed": "false"
   },
   "source": [
    "## Other features"
   ]
  },
  {
   "cell_type": "markdown",
   "metadata": {
    "Collapsed": "false"
   },
   "source": [
    "Let's have a look on how the dataset looks right now."
   ]
  },
  {
   "cell_type": "code",
   "execution_count": 45,
   "metadata": {
    "Collapsed": "false",
    "ExecuteTime": {
     "end_time": "2020-06-18T12:19:29.610413Z",
     "start_time": "2020-06-18T12:19:29.564947Z"
    }
   },
   "outputs": [
    {
     "data": {
      "text/html": [
       "<div>\n",
       "<style scoped>\n",
       "    .dataframe tbody tr th:only-of-type {\n",
       "        vertical-align: middle;\n",
       "    }\n",
       "\n",
       "    .dataframe tbody tr th {\n",
       "        vertical-align: top;\n",
       "    }\n",
       "\n",
       "    .dataframe thead th {\n",
       "        text-align: right;\n",
       "    }\n",
       "</style>\n",
       "<table border=\"1\" class=\"dataframe\">\n",
       "  <thead>\n",
       "    <tr style=\"text-align: right;\">\n",
       "      <th></th>\n",
       "      <th>Invoice</th>\n",
       "      <th>StockCode</th>\n",
       "      <th>Description</th>\n",
       "      <th>Quantity</th>\n",
       "      <th>InvoiceDate</th>\n",
       "      <th>Price</th>\n",
       "      <th>Customer ID</th>\n",
       "      <th>Country</th>\n",
       "      <th>imputed_costumer_id</th>\n",
       "      <th>q_max</th>\n",
       "      <th>quantity_norm</th>\n",
       "      <th>quantity_log</th>\n",
       "    </tr>\n",
       "  </thead>\n",
       "  <tbody>\n",
       "    <tr>\n",
       "      <th>1</th>\n",
       "      <td>489434</td>\n",
       "      <td>79323P</td>\n",
       "      <td>PINK CHERRY LIGHTS</td>\n",
       "      <td>12</td>\n",
       "      <td>2009-12-01 07:45:00</td>\n",
       "      <td>6.75</td>\n",
       "      <td>13085.0</td>\n",
       "      <td>United Kingdom</td>\n",
       "      <td>13085</td>\n",
       "      <td>48</td>\n",
       "      <td>0.250000</td>\n",
       "      <td>2.564949</td>\n",
       "    </tr>\n",
       "    <tr>\n",
       "      <th>39</th>\n",
       "      <td>496092</td>\n",
       "      <td>79323P</td>\n",
       "      <td>PINK CHERRY LIGHTS</td>\n",
       "      <td>8</td>\n",
       "      <td>2010-01-29 10:06:00</td>\n",
       "      <td>6.75</td>\n",
       "      <td>13085.0</td>\n",
       "      <td>United Kingdom</td>\n",
       "      <td>13085</td>\n",
       "      <td>48</td>\n",
       "      <td>0.166667</td>\n",
       "      <td>2.197225</td>\n",
       "    </tr>\n",
       "    <tr>\n",
       "      <th>57</th>\n",
       "      <td>496166</td>\n",
       "      <td>79323P</td>\n",
       "      <td>PINK CHERRY LIGHTS</td>\n",
       "      <td>8</td>\n",
       "      <td>2010-01-29 11:42:00</td>\n",
       "      <td>6.75</td>\n",
       "      <td>13085.0</td>\n",
       "      <td>United Kingdom</td>\n",
       "      <td>13085</td>\n",
       "      <td>48</td>\n",
       "      <td>0.166667</td>\n",
       "      <td>2.197225</td>\n",
       "    </tr>\n",
       "    <tr>\n",
       "      <th>100</th>\n",
       "      <td>492240</td>\n",
       "      <td>79323P</td>\n",
       "      <td>PINK CHERRY LIGHTS</td>\n",
       "      <td>24</td>\n",
       "      <td>2009-12-16 07:59:00</td>\n",
       "      <td>5.45</td>\n",
       "      <td>13078.0</td>\n",
       "      <td>United Kingdom</td>\n",
       "      <td>13078</td>\n",
       "      <td>160</td>\n",
       "      <td>0.150000</td>\n",
       "      <td>3.218876</td>\n",
       "    </tr>\n",
       "    <tr>\n",
       "      <th>149</th>\n",
       "      <td>498119</td>\n",
       "      <td>79323P</td>\n",
       "      <td>PINK CHERRY LIGHTS</td>\n",
       "      <td>24</td>\n",
       "      <td>2010-02-16 15:13:00</td>\n",
       "      <td>5.45</td>\n",
       "      <td>13078.0</td>\n",
       "      <td>United Kingdom</td>\n",
       "      <td>13078</td>\n",
       "      <td>160</td>\n",
       "      <td>0.150000</td>\n",
       "      <td>3.218876</td>\n",
       "    </tr>\n",
       "  </tbody>\n",
       "</table>\n",
       "</div>"
      ],
      "text/plain": [
       "    Invoice StockCode         Description  Quantity         InvoiceDate  \\\n",
       "1    489434    79323P  PINK CHERRY LIGHTS        12 2009-12-01 07:45:00   \n",
       "39   496092    79323P  PINK CHERRY LIGHTS         8 2010-01-29 10:06:00   \n",
       "57   496166    79323P  PINK CHERRY LIGHTS         8 2010-01-29 11:42:00   \n",
       "100  492240    79323P  PINK CHERRY LIGHTS        24 2009-12-16 07:59:00   \n",
       "149  498119    79323P  PINK CHERRY LIGHTS        24 2010-02-16 15:13:00   \n",
       "\n",
       "     Price  Customer ID         Country imputed_costumer_id  q_max  \\\n",
       "1     6.75      13085.0  United Kingdom               13085     48   \n",
       "39    6.75      13085.0  United Kingdom               13085     48   \n",
       "57    6.75      13085.0  United Kingdom               13085     48   \n",
       "100   5.45      13078.0  United Kingdom               13078    160   \n",
       "149   5.45      13078.0  United Kingdom               13078    160   \n",
       "\n",
       "     quantity_norm  quantity_log  \n",
       "1         0.250000      2.564949  \n",
       "39        0.166667      2.197225  \n",
       "57        0.166667      2.197225  \n",
       "100       0.150000      3.218876  \n",
       "149       0.150000      3.218876  "
      ]
     },
     "execution_count": 45,
     "metadata": {},
     "output_type": "execute_result"
    }
   ],
   "source": [
    "processed_df[processed_df['Description'] == \"PINK CHERRY LIGHTS\"].head()"
   ]
  },
  {
   "cell_type": "markdown",
   "metadata": {
    "Collapsed": "false"
   },
   "source": [
    "The features that are going to be used to build the collaborative filtering models are the \"StockCode\", quantity_log (from \"Quantity\" feature), and imputed_costumer_id (from Customer_ID feature). The feature \"Description\" is going to be used to do the content based-models. However, the unused features can also represent good sources of information. For instance the feature \"Country\" may be used to extract information regarding the characteristics of users, which may be a good addition to the content-based approaches. \n",
    "The \"Price\" column seems to be very interesting as well, apparently there is a discount system going on for buying items in large quantities. For instance, for \"PINK CHERRY LIGHTS\" buyers paid 6.75 (unknown coin) when buying 8 or 12 items but only 5.45 when they bought 24 items. This incentive from the seller is another indicator that this dataset originated, at least in part, from bulk buyers. Finally the date and time information from \"InvoiceDate\" can be very useful to extract trends over time."
   ]
  },
  {
   "cell_type": "markdown",
   "metadata": {
    "Collapsed": "false"
   },
   "source": [
    "##  Writing the Data to files."
   ]
  },
  {
   "cell_type": "markdown",
   "metadata": {
    "Collapsed": "false"
   },
   "source": [
    "Finally let's prepare the dataset for the next steps (modeling), print its metrics, and output it to a csv file."
   ]
  },
  {
   "cell_type": "code",
   "execution_count": 48,
   "metadata": {
    "Collapsed": "false",
    "ExecuteTime": {
     "end_time": "2020-06-18T12:24:48.142344Z",
     "start_time": "2020-06-18T12:24:44.683202Z"
    }
   },
   "outputs": [
    {
     "name": "stdout",
     "output_type": "stream",
     "text": [
      "Shape of the dataframe: (510681, 3)\n",
      "Info of the dataframe:\n",
      "<class 'pandas.core.frame.DataFrame'>\n",
      "Int64Index: 510681 entries, 0 to 510680\n",
      "Data columns (total 3 columns):\n",
      " #   Column               Non-Null Count   Dtype  \n",
      "---  ------               --------------   -----  \n",
      " 0   StockCode            510681 non-null  object \n",
      " 1   quantity_log         510681 non-null  float64\n",
      " 2   imputed_costumer_id  510681 non-null  object \n",
      "dtypes: float64(1), object(2)\n",
      "memory usage: 15.6+ MB\n",
      "None\n"
     ]
    }
   ],
   "source": [
    "ready_df_log = processed_df[['StockCode', 'quantity_log', 'imputed_costumer_id']].copy()\n",
    "extra_info_df_log = processed_df[['StockCode', 'quantity_log', 'imputed_costumer_id', 'Description']].copy()\n",
    "\n",
    "print(f\"Shape of the dataframe: {ready_df_log.shape}\")\n",
    "print(\"Info of the dataframe:\") \n",
    "print(ready_df_log.info())\n",
    "#print(ready_df_bool.describe())\n",
    "\n",
    "ready_df_log.to_csv('log_processed_df.csv', index=False, header=False)\n",
    "extra_info_df_log.to_csv('extrainfo_log_processed_df.csv', index=False, header=False)"
   ]
  },
  {
   "cell_type": "markdown",
   "metadata": {
    "Collapsed": "false"
   },
   "source": [
    "# Content-based inference"
   ]
  },
  {
   "cell_type": "markdown",
   "metadata": {
    "Collapsed": "false"
   },
   "source": [
    "As previously mentioned, here I'm going to build a content based similarity search system solely using the \"Description\" feature, which contains the names of the items. More features could be used, but the idea here is to demonstrate the amount of information that can be extracted from a simple item name. Please notice that the simplistic approach here applied is not a fully fleshed recommender system, it is more like an item similarity inference system.\n",
    "Two approaches are going to be applied, the first based on Term frequency-Inverse document frequency (TF-IDF) and the second based on Word2Vec like approaches. Let's start by looking at the dataset and extracting the features of interest.\n"
   ]
  },
  {
   "cell_type": "markdown",
   "metadata": {
    "Collapsed": "false"
   },
   "source": [
    "## TF-IDF"
   ]
  },
  {
   "cell_type": "code",
   "execution_count": 53,
   "metadata": {
    "Collapsed": "false",
    "ExecuteTime": {
     "end_time": "2020-06-18T12:39:21.920311Z",
     "start_time": "2020-06-18T12:39:21.887941Z"
    }
   },
   "outputs": [
    {
     "data": {
      "text/html": [
       "<div>\n",
       "<style scoped>\n",
       "    .dataframe tbody tr th:only-of-type {\n",
       "        vertical-align: middle;\n",
       "    }\n",
       "\n",
       "    .dataframe tbody tr th {\n",
       "        vertical-align: top;\n",
       "    }\n",
       "\n",
       "    .dataframe thead th {\n",
       "        text-align: right;\n",
       "    }\n",
       "</style>\n",
       "<table border=\"1\" class=\"dataframe\">\n",
       "  <thead>\n",
       "    <tr style=\"text-align: right;\">\n",
       "      <th></th>\n",
       "      <th>StockCode</th>\n",
       "      <th>imputed_costumer_id</th>\n",
       "      <th>Description</th>\n",
       "    </tr>\n",
       "  </thead>\n",
       "  <tbody>\n",
       "    <tr>\n",
       "      <th>0</th>\n",
       "      <td>85048</td>\n",
       "      <td>13085</td>\n",
       "      <td>15CM CHRISTMAS GLASS BALL 20 LIGHTS</td>\n",
       "    </tr>\n",
       "    <tr>\n",
       "      <th>1</th>\n",
       "      <td>79323P</td>\n",
       "      <td>13085</td>\n",
       "      <td>PINK CHERRY LIGHTS</td>\n",
       "    </tr>\n",
       "    <tr>\n",
       "      <th>2</th>\n",
       "      <td>79323W</td>\n",
       "      <td>13085</td>\n",
       "      <td>WHITE CHERRY LIGHTS</td>\n",
       "    </tr>\n",
       "    <tr>\n",
       "      <th>3</th>\n",
       "      <td>22041</td>\n",
       "      <td>13085</td>\n",
       "      <td>RECORD FRAME 7\" SINGLE SIZE</td>\n",
       "    </tr>\n",
       "    <tr>\n",
       "      <th>4</th>\n",
       "      <td>21232</td>\n",
       "      <td>13085</td>\n",
       "      <td>STRAWBERRY CERAMIC TRINKET BOX</td>\n",
       "    </tr>\n",
       "  </tbody>\n",
       "</table>\n",
       "</div>"
      ],
      "text/plain": [
       "  StockCode imputed_costumer_id                          Description\n",
       "0     85048               13085  15CM CHRISTMAS GLASS BALL 20 LIGHTS\n",
       "1    79323P               13085                   PINK CHERRY LIGHTS\n",
       "2    79323W               13085                  WHITE CHERRY LIGHTS\n",
       "3     22041               13085         RECORD FRAME 7\" SINGLE SIZE \n",
       "4     21232               13085       STRAWBERRY CERAMIC TRINKET BOX"
      ]
     },
     "execution_count": 53,
     "metadata": {},
     "output_type": "execute_result"
    }
   ],
   "source": [
    "cb_df = processed_df[['StockCode', 'imputed_costumer_id', 'Description']].copy()\n",
    "cb_df.head()"
   ]
  },
  {
   "cell_type": "markdown",
   "metadata": {
    "Collapsed": "false"
   },
   "source": [
    "Some changes need to be done, the text in the \"Description\" feature will be capitalized, the duplicated items will be removed, and items without the description information will be dropped. An index column is going to be created to facilitate the comparisons with the matrices created."
   ]
  },
  {
   "cell_type": "code",
   "execution_count": 54,
   "metadata": {
    "Collapsed": "false",
    "ExecuteTime": {
     "end_time": "2020-06-18T12:39:24.076972Z",
     "start_time": "2020-06-18T12:39:23.661362Z"
    }
   },
   "outputs": [
    {
     "name": "stdout",
     "output_type": "stream",
     "text": [
      "The dataset now has 4209 unique item entries.\n"
     ]
    }
   ],
   "source": [
    "cb_df['description'] = cb_df['Description'].str.upper()\n",
    "cb_df.drop(['Description'], axis=1, inplace=True)\n",
    "df_items = cb_df.drop_duplicates(subset=['StockCode']).copy()\n",
    "df_items = df_items.dropna(subset=['description'])\n",
    "df_items.reset_index(inplace=True)\n",
    "df_items.drop(['index'], axis=1, inplace=True)\n",
    "df_items.reset_index(inplace=True)\n",
    "\n",
    "print(f\"The dataset now has {df_items.shape[0]} unique item entries.\")"
   ]
  },
  {
   "cell_type": "markdown",
   "metadata": {
    "Collapsed": "false"
   },
   "source": [
    "Let's start by the TF-IDF model as implemented in the sklearn package, following a bag-of-words approach. Basically we are going to build a matrix with the shape number of unique items descriptions vs number of total words. Therefore, in this matrix each row represents an item Description and each column represents one of the words from all the items Descriptions. When a column value is 0 it means that that word (represented in that column) is absent from that item Description. The remaining values correspond to the presence of a said word in a data point, between 0 (not included) and 1. These values depend on that word (or term) frequencies in that data point (item Description) and entire dataset, then the name term frequency-inverse document frequency."
   ]
  },
  {
   "cell_type": "code",
   "execution_count": 56,
   "metadata": {
    "Collapsed": "false",
    "ExecuteTime": {
     "end_time": "2020-06-18T12:47:07.221582Z",
     "start_time": "2020-06-18T12:47:07.181143Z"
    }
   },
   "outputs": [
    {
     "name": "stdout",
     "output_type": "stream",
     "text": [
      "The built matrix has 4209 rows, one for each item,and 2047 columns, one for each word.\n"
     ]
    }
   ],
   "source": [
    "from sklearn.feature_extraction.text import TfidfVectorizer\n",
    "\n",
    "# Define a TF-IDF object and remove stop words that are extremely common.\n",
    "tfidf = TfidfVectorizer(stop_words='english')\n",
    "\n",
    "# Fit_transform the data to get tdidf matrix.\n",
    "tfidf_matrix = tfidf.fit_transform(df_items['description'])\n",
    "\n",
    "#Output the shape of tfidf_matrix\n",
    "print(f\"The built matrix has {tfidf_matrix.shape[0]} rows, one for each item,\\\n",
    "and {tfidf_matrix.shape[1]} columns, one for each word.\")"
   ]
  },
  {
   "cell_type": "markdown",
   "metadata": {
    "Collapsed": "false"
   },
   "source": [
    "Now each item is represented by an array of numbers of length 2047, commonly called word embeddings (in this case sentence embeddings). Like in this example for the first item:"
   ]
  },
  {
   "cell_type": "code",
   "execution_count": 58,
   "metadata": {
    "Collapsed": "false",
    "ExecuteTime": {
     "end_time": "2020-06-18T12:47:58.157033Z",
     "start_time": "2020-06-18T12:47:58.152749Z"
    }
   },
   "outputs": [
    {
     "data": {
      "text/plain": [
       "array([[0., 0., 0., ..., 0., 0., 0.]])"
      ]
     },
     "execution_count": 58,
     "metadata": {},
     "output_type": "execute_result"
    }
   ],
   "source": [
    "tfidf_matrix[0,:].toarray()"
   ]
  },
  {
   "cell_type": "markdown",
   "metadata": {
    "Collapsed": "false"
   },
   "source": [
    "The fact that the array for the first item only shows 0s and \"...\" highlights one of the main characteristics of these embeddings. They are extremely sparse. Meaning that the majority of the data points represent absences (0s) while only a few show presences. This happens because each item description only has a few words from the total 2047 possible.\n",
    "These embeddings are extremely interesting because they transform words into numeric representations, making it possible to perform numeric operations like infer the distance among them."
   ]
  },
  {
   "cell_type": "markdown",
   "metadata": {
    "Collapsed": "false"
   },
   "source": [
    "To infer the distance among the different item descriptions I'm using sklearn's cosine similarity. Sklearn has many other methods to infer this distance but since this is an unsupervised task inferring which parameters are the best is challenging. Therefore the decision to use this metric was based on the fact that cosine similarity is widely used in similar applications."
   ]
  },
  {
   "cell_type": "code",
   "execution_count": 59,
   "metadata": {
    "Collapsed": "false",
    "ExecuteTime": {
     "end_time": "2020-06-18T12:53:18.901435Z",
     "start_time": "2020-06-18T12:53:18.593609Z"
    }
   },
   "outputs": [],
   "source": [
    "from sklearn.metrics.pairwise import cosine_similarity\n",
    "\n",
    "# Compute the cosine similarity matrix\n",
    "cosine_sim = cosine_similarity(tfidf_matrix, tfidf_matrix)"
   ]
  },
  {
   "cell_type": "code",
   "execution_count": 31,
   "metadata": {
    "Collapsed": "false"
   },
   "outputs": [
    {
     "name": "stdout",
     "output_type": "stream",
     "text": [
      "With this a similarity matrix was created comparing all items vs eachother. Therefore the matrix shape is the same as the numebr of items: (4209, 4209)\n"
     ]
    }
   ],
   "source": [
    "print(f'With this a similarity matrix was created comparing all items vs each\\\n",
    "other. Therefore the matrix shape is the same as the number of \\\n",
    "items: {cosine_sim.shape}')"
   ]
  },
  {
   "cell_type": "markdown",
   "metadata": {
    "Collapsed": "false"
   },
   "source": [
    "But is all this any good? Do the embeddings and the consequent distances represent anything? Let's look at a test set of similar items, which only vary in the color (one word), and build a small function that outputs their similarity."
   ]
  },
  {
   "cell_type": "code",
   "execution_count": 60,
   "metadata": {
    "Collapsed": "false",
    "ExecuteTime": {
     "end_time": "2020-06-18T12:54:03.000341Z",
     "start_time": "2020-06-18T12:54:02.986719Z"
    }
   },
   "outputs": [
    {
     "data": {
      "text/html": [
       "<div>\n",
       "<style scoped>\n",
       "    .dataframe tbody tr th:only-of-type {\n",
       "        vertical-align: middle;\n",
       "    }\n",
       "\n",
       "    .dataframe tbody tr th {\n",
       "        vertical-align: top;\n",
       "    }\n",
       "\n",
       "    .dataframe thead th {\n",
       "        text-align: right;\n",
       "    }\n",
       "</style>\n",
       "<table border=\"1\" class=\"dataframe\">\n",
       "  <thead>\n",
       "    <tr style=\"text-align: right;\">\n",
       "      <th></th>\n",
       "      <th>index</th>\n",
       "      <th>StockCode</th>\n",
       "      <th>imputed_costumer_id</th>\n",
       "      <th>description</th>\n",
       "    </tr>\n",
       "  </thead>\n",
       "  <tbody>\n",
       "    <tr>\n",
       "      <th>1</th>\n",
       "      <td>1</td>\n",
       "      <td>79323P</td>\n",
       "      <td>13085</td>\n",
       "      <td>PINK CHERRY LIGHTS</td>\n",
       "    </tr>\n",
       "    <tr>\n",
       "      <th>2</th>\n",
       "      <td>2</td>\n",
       "      <td>79323W</td>\n",
       "      <td>13085</td>\n",
       "      <td>WHITE CHERRY LIGHTS</td>\n",
       "    </tr>\n",
       "    <tr>\n",
       "      <th>861</th>\n",
       "      <td>861</td>\n",
       "      <td>79323S</td>\n",
       "      <td>15413</td>\n",
       "      <td>SILVER CHERRY LIGHTS</td>\n",
       "    </tr>\n",
       "    <tr>\n",
       "      <th>871</th>\n",
       "      <td>871</td>\n",
       "      <td>79323GR</td>\n",
       "      <td>16167</td>\n",
       "      <td>GREEN CHERRY LIGHTS</td>\n",
       "    </tr>\n",
       "    <tr>\n",
       "      <th>1306</th>\n",
       "      <td>1306</td>\n",
       "      <td>79323G</td>\n",
       "      <td>15311</td>\n",
       "      <td>GOLD  CHERRY LIGHTS</td>\n",
       "    </tr>\n",
       "    <tr>\n",
       "      <th>1391</th>\n",
       "      <td>1391</td>\n",
       "      <td>79323LP</td>\n",
       "      <td>15311</td>\n",
       "      <td>LIGHT PINK CHERRY LIGHTS</td>\n",
       "    </tr>\n",
       "    <tr>\n",
       "      <th>1669</th>\n",
       "      <td>1669</td>\n",
       "      <td>79323B</td>\n",
       "      <td>14911</td>\n",
       "      <td>BLACK CHERRY LIGHTS</td>\n",
       "    </tr>\n",
       "  </tbody>\n",
       "</table>\n",
       "</div>"
      ],
      "text/plain": [
       "      index StockCode imputed_costumer_id               description\n",
       "1         1    79323P               13085        PINK CHERRY LIGHTS\n",
       "2         2    79323W               13085       WHITE CHERRY LIGHTS\n",
       "861     861    79323S               15413      SILVER CHERRY LIGHTS\n",
       "871     871   79323GR               16167       GREEN CHERRY LIGHTS\n",
       "1306   1306    79323G               15311       GOLD  CHERRY LIGHTS\n",
       "1391   1391   79323LP               15311  LIGHT PINK CHERRY LIGHTS\n",
       "1669   1669    79323B               14911       BLACK CHERRY LIGHTS"
      ]
     },
     "execution_count": 60,
     "metadata": {},
     "output_type": "execute_result"
    }
   ],
   "source": [
    "def see_similarity_df(df, co_sim=cosine_sim, col_ids='index',\n",
    "                      col_des='description'):\n",
    "    \n",
    "    ids_to_test = df[col_ids].values\n",
    "    descriptions = df[col_des].values\n",
    "    \n",
    "    for item in ids_to_test:\n",
    "        name = df[df[col_ids] == item][col_des].values[0]\n",
    "        distances = [co_sim[item, x] for x in ids_to_test]\n",
    "        this_items_res = zip(descriptions, distances)\n",
    "        \n",
    "        print(f\"Comparing to {name} the distances are: {[x for x in this_items_res]}\\n\")\n",
    "        \n",
    "        \n",
    "test_set = df_items[df_items['StockCode'].apply(lambda x: True if '79323' in str(x) else False)]\n",
    "test_set"
   ]
  },
  {
   "cell_type": "code",
   "execution_count": 61,
   "metadata": {
    "Collapsed": "false",
    "ExecuteTime": {
     "end_time": "2020-06-18T12:54:04.106665Z",
     "start_time": "2020-06-18T12:54:04.097225Z"
    }
   },
   "outputs": [
    {
     "name": "stdout",
     "output_type": "stream",
     "text": [
      "Comparing to PINK CHERRY LIGHTS the distances are: [('PINK CHERRY LIGHTS', 1.0), (' WHITE CHERRY LIGHTS', 0.827964191789947), (' SILVER CHERRY LIGHTS', 0.8054262247847004), ('GREEN CHERRY LIGHTS', 0.8105216958338252), ('GOLD  CHERRY LIGHTS', 0.767165484289537), ('LIGHT PINK CHERRY LIGHTS', 0.880049268826302), ('BLACK CHERRY LIGHTS', 0.8164344279486764)]\n",
      "\n",
      "Comparing to  WHITE CHERRY LIGHTS the distances are: [('PINK CHERRY LIGHTS', 0.827964191789947), (' WHITE CHERRY LIGHTS', 1.0), (' SILVER CHERRY LIGHTS', 0.7784442233017199), ('GREEN CHERRY LIGHTS', 0.7833689946602047), ('GOLD  CHERRY LIGHTS', 0.7414652282042264), ('LIGHT PINK CHERRY LIGHTS', 0.7286492815991028), ('BLACK CHERRY LIGHTS', 0.7890836486124855)]\n",
      "\n",
      "Comparing to  SILVER CHERRY LIGHTS the distances are: [('PINK CHERRY LIGHTS', 0.8054262247847004), (' WHITE CHERRY LIGHTS', 0.7784442233017199), (' SILVER CHERRY LIGHTS', 1.0000000000000002), ('GREEN CHERRY LIGHTS', 0.7620449510244336), ('GOLD  CHERRY LIGHTS', 0.7212818446539339), ('LIGHT PINK CHERRY LIGHTS', 0.7088147602153043), ('BLACK CHERRY LIGHTS', 0.7676040467007648)]\n",
      "\n",
      "Comparing to GREEN CHERRY LIGHTS the distances are: [('PINK CHERRY LIGHTS', 0.8105216958338252), (' WHITE CHERRY LIGHTS', 0.7833689946602047), (' SILVER CHERRY LIGHTS', 0.7620449510244336), ('GREEN CHERRY LIGHTS', 1.0000000000000002), ('GOLD  CHERRY LIGHTS', 0.725844982337557), ('LIGHT PINK CHERRY LIGHTS', 0.713299025786412), ('BLACK CHERRY LIGHTS', 0.77246023846209)]\n",
      "\n",
      "Comparing to GOLD  CHERRY LIGHTS the distances are: [('PINK CHERRY LIGHTS', 0.767165484289537), (' WHITE CHERRY LIGHTS', 0.7414652282042264), (' SILVER CHERRY LIGHTS', 0.7212818446539339), ('GREEN CHERRY LIGHTS', 0.725844982337557), ('GOLD  CHERRY LIGHTS', 1.0000000000000002), ('LIGHT PINK CHERRY LIGHTS', 0.6751434235177828), ('BLACK CHERRY LIGHTS', 0.7311400002988662)]\n",
      "\n",
      "Comparing to LIGHT PINK CHERRY LIGHTS the distances are: [('PINK CHERRY LIGHTS', 0.880049268826302), (' WHITE CHERRY LIGHTS', 0.7286492815991028), (' SILVER CHERRY LIGHTS', 0.7088147602153043), ('GREEN CHERRY LIGHTS', 0.713299025786412), ('GOLD  CHERRY LIGHTS', 0.6751434235177828), ('LIGHT PINK CHERRY LIGHTS', 1.0), ('BLACK CHERRY LIGHTS', 0.7185025213608527)]\n",
      "\n",
      "Comparing to BLACK CHERRY LIGHTS the distances are: [('PINK CHERRY LIGHTS', 0.8164344279486764), (' WHITE CHERRY LIGHTS', 0.7890836486124855), (' SILVER CHERRY LIGHTS', 0.7676040467007648), ('GREEN CHERRY LIGHTS', 0.77246023846209), ('GOLD  CHERRY LIGHTS', 0.7311400002988662), ('LIGHT PINK CHERRY LIGHTS', 0.7185025213608527), ('BLACK CHERRY LIGHTS', 1.0)]\n",
      "\n"
     ]
    }
   ],
   "source": [
    "see_similarity_df(test_set)"
   ]
  },
  {
   "cell_type": "markdown",
   "metadata": {
    "Collapsed": "false"
   },
   "source": [
    "The distance is always 1.0 when comparing the item to itself. There are interesting behaviors like the closest item to 'PINK CHERRY LIGHTS' being 'LIGHT PINK CHERRY LIGHTS' which contains all its words plus one more 'LIGHT'. The items that only vary in 1 word are not all in the same distance among each other because TF-IDF was applied, the prevalence of each one of these different words in the dataset was taken into account to build the matrix. For instance the word \"GOLD\" and \"GREEN\" must likely have different prevalences in the dataset, originating different values for the embeddings in the respective columns which lead to different distances when comparing to \"PINK\"."
   ]
  },
  {
   "cell_type": "markdown",
   "metadata": {
    "Collapsed": "false"
   },
   "source": [
    "With this a function can be built to \"recommend\" the items closer to another. Again this is not really a recommender system, it is more like an item similarity suggestion."
   ]
  },
  {
   "cell_type": "code",
   "execution_count": 62,
   "metadata": {
    "Collapsed": "false",
    "ExecuteTime": {
     "end_time": "2020-06-18T12:57:44.314717Z",
     "start_time": "2020-06-18T12:57:44.303812Z"
    }
   },
   "outputs": [],
   "source": [
    "def get_recom_tfidf(title, df, n=10, co_sim =cosine_sim,\n",
    "                    col_des='description', col_id='index'):\n",
    "    \n",
    "    title_id_matrix = df[df[col_des] == title][col_id].values[0]\n",
    "    distances = np.argsort(co_sim[title_id_matrix])\n",
    "    closest = distances[-2:-11:-1]\n",
    "    \n",
    "    name_closest = [df[df[col_id] == x][col_des].values[0] for x in closest]\n",
    "    print(f'The 10 closest items to {title} are: {name_clossest} ')"
   ]
  },
  {
   "cell_type": "markdown",
   "metadata": {
    "Collapsed": "false"
   },
   "source": [
    "Finally lets the 10 suggested items similar to \"BLACK CHERRY LIGHTS\":"
   ]
  },
  {
   "cell_type": "code",
   "execution_count": 63,
   "metadata": {
    "Collapsed": "false",
    "ExecuteTime": {
     "end_time": "2020-06-18T12:58:29.379275Z",
     "start_time": "2020-06-18T12:58:29.367226Z"
    }
   },
   "outputs": [
    {
     "name": "stdout",
     "output_type": "stream",
     "text": [
      "The 10 closses items to BLACK CHERRY LIGHTS are: ['PINK CHERRY LIGHTS', ' WHITE CHERRY LIGHTS', 'GREEN CHERRY LIGHTS', ' SILVER CHERRY LIGHTS', 'GOLD  CHERRY LIGHTS', 'LIGHT PINK CHERRY LIGHTS', 'SET/6 BLACK SNOWFLAKE T-LIGHTS ', 'CHERRY BLOSSOM PURSE', 'CHERRY DESIGN PAPERLANTERNS'] \n"
     ]
    }
   ],
   "source": [
    "get_recom_tfidf('BLACK CHERRY LIGHTS', df_items)"
   ]
  },
  {
   "cell_type": "markdown",
   "metadata": {
    "Collapsed": "false"
   },
   "source": [
    "From these results it is easy to understand the shortcomings of this approach. Maybe recommending the exact same item that a person bought but in a different color is not the best approach, actually it may even be a waste of advertising space. That's why this approach can not be seen as a real recommender system. However, models like this may be extremely useful in curating and classifying large datasets, in the end of the day this is a valid approach to find similar items with nothing more than their title. But can embedding similar to these infer from each word in a sentence and not the entire sentence? Being the similarity among words dependent on the context where they mainly show in the dataset? Lets try a Word2Vec approach!"
   ]
  },
  {
   "cell_type": "markdown",
   "metadata": {
    "Collapsed": "false"
   },
   "source": [
    "## Word2Vec like"
   ]
  },
  {
   "cell_type": "markdown",
   "metadata": {
    "Collapsed": "false"
   },
   "source": [
    "In the last example the embeddings created were by item name, a group of words. More specifically the presence or absence of words in a sentence (the item name). The embeddings that are going to be created in this second approach correspond to each word in the dataset. For this I'm going to use the FastText model as implemented in gensim. Word2Vec, the first and precursor of this methodology, and Glove are other well established methods to achieve this, according to the literature none is better than the other in all tasks. Here I apply FastText simply by my personal preference, using the other methods would most likely result in slight or even unnoticeable difference."
   ]
  },
  {
   "cell_type": "markdown",
   "metadata": {
    "Collapsed": "false"
   },
   "source": [
    "First lets apply the gensim preprocess_string method. This removes punctuation and stop words as well as doing some stemming like in the example:"
   ]
  },
  {
   "cell_type": "code",
   "execution_count": 64,
   "metadata": {
    "Collapsed": "false",
    "ExecuteTime": {
     "end_time": "2020-06-18T13:52:20.630940Z",
     "start_time": "2020-06-18T13:52:17.822733Z"
    }
   },
   "outputs": [
    {
     "data": {
      "text/plain": [
       "description                 STRAWBERRY CERAMIC TRINKET BOX\n",
       "processed_description    [strawberri, ceram, trinket, box]\n",
       "Name: 4, dtype: object"
      ]
     },
     "execution_count": 64,
     "metadata": {},
     "output_type": "execute_result"
    }
   ],
   "source": [
    "from gensim.models import FastText\n",
    "from gensim.parsing.preprocessing import preprocess_string\n",
    "\n",
    "df_items['processed_description'] = df_items['description'].apply(preprocess_string)\n",
    "\n",
    "df_items.loc[4][['description', 'processed_description']]"
   ]
  },
  {
   "cell_type": "markdown",
   "metadata": {
    "Collapsed": "false"
   },
   "source": [
    "\"STRAWBERRY\" was converted to \"strawberri\" and \"CERAMIC\" to \"ceram\". These changes are done with the purpose of improving the capacity of future models to recognize that different forms of the same word are similar while dissimilar words only separated by a few changes may be completely different in their stem form.\n",
    "\n",
    "Now lets infer the word embeddings."
   ]
  },
  {
   "cell_type": "code",
   "execution_count": 65,
   "metadata": {
    "Collapsed": "false",
    "ExecuteTime": {
     "end_time": "2020-06-18T13:55:32.449098Z",
     "start_time": "2020-06-18T13:55:29.900885Z"
    }
   },
   "outputs": [],
   "source": [
    "list_titles = df_items['processed_description'].values\n",
    "\n",
    "model_ft = FastText(list_titles, size=20, min_count=1, iter=20, workers=4,\n",
    "                     batch_words=100)"
   ]
  },
  {
   "cell_type": "markdown",
   "metadata": {
    "Collapsed": "false"
   },
   "source": [
    "Are the embedding any good? Lets see the most similar words to some examples:"
   ]
  },
  {
   "cell_type": "code",
   "execution_count": 66,
   "metadata": {
    "Collapsed": "false",
    "ExecuteTime": {
     "end_time": "2020-06-18T13:55:32.737542Z",
     "start_time": "2020-06-18T13:55:32.541176Z"
    }
   },
   "outputs": [
    {
     "name": "stdout",
     "output_type": "stream",
     "text": [
      "The clossest words to \"christma\" are [('decor', 0.997012734413147), ('tree', 0.9946001768112183), ('blackchristma', 0.9944585561752319)]\n",
      "The clossest words to \"glass\" are [('glaze', 0.9958356022834778), ('bear', 0.9936851859092712), ('pear', 0.9927975535392761)]\n",
      "The clossest words to \"ball\" are [('sall', 0.9995081424713135), ('hall', 0.9989868402481079), ('pill', 0.9986323118209839)]\n"
     ]
    }
   ],
   "source": [
    "close_to_00 = model_ft.wv.most_similar(list_titles[0][0])\n",
    "print(f'The closest words to \"{list_titles[0][0]}\" are {close_to_00[:3]}')\n",
    "\n",
    "close_to_01 = model_ft.wv.most_similar(list_titles[0][1])\n",
    "print(f'The closest words to \"{list_titles[0][1]}\" are {close_to_01[:3]}')\n",
    "\n",
    "close_to_02 = model_ft.wv.most_similar(list_titles[0][2])\n",
    "print(f'The closest words to \"{list_titles[0][2]}\" are {close_to_02[:3]}')"
   ]
  },
  {
   "cell_type": "markdown",
   "metadata": {
    "Collapsed": "false"
   },
   "source": [
    "With these examples I'm pretty confident that the embedding we successfully created and can be used to find similar words.\n",
    "Now I'm going to aggregate the different word embeddings from a sentence in a single embedding by simply calculating the mean of those word embeddings. From those a cosine similarity matrix is going to be built, like it was done in the previous approach. Finally I'm going to plot the results for the same example item \"BLACK CHERRY LIGHTS\"."
   ]
  },
  {
   "cell_type": "code",
   "execution_count": 67,
   "metadata": {
    "Collapsed": "false",
    "ExecuteTime": {
     "end_time": "2020-06-18T13:58:42.424105Z",
     "start_time": "2020-06-18T13:58:42.286546Z"
    }
   },
   "outputs": [],
   "source": [
    "df_items['vectors'] = df_items['processed_description'].apply(lambda x: np.mean([model_ft.wv.get_vector(i) for i in x], axis=0))\n",
    "\n",
    "cosine_sim2 = cosine_similarity(np.array([x for x in df_items['vectors'].values]),\n",
    "                            np.array([x for x in df_items['vectors'].values]))"
   ]
  },
  {
   "cell_type": "code",
   "execution_count": 68,
   "metadata": {
    "Collapsed": "false",
    "ExecuteTime": {
     "end_time": "2020-06-18T13:58:43.157834Z",
     "start_time": "2020-06-18T13:58:43.142042Z"
    }
   },
   "outputs": [
    {
     "name": "stdout",
     "output_type": "stream",
     "text": [
      "The 10 closses items to BLACK CHERRY LIGHTS are: ['SET/6 BLACK SNOWFLAKE T-LIGHTS ', 'PINK GLASS COCKTAIL LAMP', 'HAND OPEN SHAPE GOLD', 'GREEN WIRE GOBLET CANDLEHOLDER', 'HAND OPEN SHAPE BLACK', 'FLAT GLASS  BAUBLE WHITE FLOCK ', 'SILVER OVAL JEWELLED MIRROR', 'LARGE PINK GLASS SUNDAE DISH', 'GOLD FABRIC MIRROR'] \n"
     ]
    }
   ],
   "source": [
    "get_recom_tfidf('BLACK CHERRY LIGHTS', df_items, co_sim=cosine_sim2)"
   ]
  },
  {
   "cell_type": "markdown",
   "metadata": {
    "Collapsed": "false"
   },
   "source": [
    "These results look much different from the TF-IDF model. The first two items seem to be related to lighting and the second even has the word black which is also present in the item used for the query. However, the remaining items seem a bit random, maybe they are related to gardening since the word cherry is in the query item. Lets see the outputs for other items."
   ]
  },
  {
   "cell_type": "code",
   "execution_count": 69,
   "metadata": {
    "Collapsed": "false",
    "ExecuteTime": {
     "end_time": "2020-06-18T13:59:26.932090Z",
     "start_time": "2020-06-18T13:59:26.901503Z"
    }
   },
   "outputs": [
    {
     "name": "stdout",
     "output_type": "stream",
     "text": [
      "The 10 closses items to 15CM CHRISTMAS GLASS BALL 20 LIGHTS are: ['COLOUR GLASS. STAR T-LIGHT HOLDER', 'SMALL ZINC/GLASS CANDLEHOLDER', 'S/6 SCANDINAVIAN HEART T-LIGHT', 'WHITE JEWELLED HEART DECORATION', 'PINK HEARTS LIGHT CHAIN ', 'ETCHED GLASS BIRD TREE DECORATION', 'GLASS ETCHED T-LIGHT HOLDER MEDIUM', 'GLASS STAR FROSTED T-LIGHT HOLDER', 'GOLD SCROLL GLASS T-LIGHT HOLDER'] \n",
      "\n",
      "\n",
      "The 10 closses items to PINK CHERRY LIGHTS are: ['SET/6 PINK  BUTTERFLY T-LIGHTS', 'SET/6  ANGEL T-LIGHTS WHITE/GOLD', ' WHITE CHERRY LIGHTS', 'PINK HEART CANDY BUTTON CALCULATOR', 'LIGHT PINK CHERRY LIGHTS', 'SET 10 LIGHTS NIGHT OWL', 'RED HEART CANDY POP LIGHTS', 'ZINC WILLIE WINKIE  CANDLE STICK', 'SET OF 6 T-LIGHTS SANTA'] \n",
      "\n",
      "\n",
      "The 10 closses items to ROUND SNACK BOXES SET OF4 WOODLAND  are: ['SET 4 NURSERY DES ROUND BOXES', 'SET OF 3 CONEY ISLAND OVAL BOXES', 'ROUND SNACK BOXES SET OF 4 FRUITS ', 'ROUND SNACK BOXES SET OF 4 SKULLS', 'SET 7 BABUSHKA NESTING BOXES', 'NEW ENGLAND MILK JUG W GIFT BOX', 'SET OF 2 ROUND TINS DUTCH CHEESE', 'NEW ENGLAND MUG W GIFT BOX', 'SEWING SUSAN 21 NEEDLE SET'] \n",
      "\n",
      "\n",
      "The 10 closses items to METAL 4 HOOK HANGER FRENCH CHATEAU are: ['COGNAC AUX OEUFS METAL 1 HOOK', 'HOUSE WRECKING METAL SIGN ', 'DO NOT TOUCH MY STUFF DOOR HANGER ', 'TOXIC AREA  DOOR HANGER ', 'KEEP OUT BOYS DOOR HANGER ', 'CARDHOLDER HOLLY WREATH METAL', 'ANGEL ON KNEES METAL POLE 100CM H', 'HOME SWEET HOME METAL SIGN ', 'MOODY BOY  DOOR HANGER '] \n"
     ]
    }
   ],
   "source": [
    "get_recom_tfidf('15CM CHRISTMAS GLASS BALL 20 LIGHTS', df_items, co_sim=cosine_sim2)\n",
    "print('\\n')\n",
    "get_recom_tfidf('PINK CHERRY LIGHTS', df_items, co_sim=cosine_sim2)\n",
    "print('\\n')\n",
    "get_recom_tfidf('ROUND SNACK BOXES SET OF4 WOODLAND ', df_items, co_sim=cosine_sim2)\n",
    "print('\\n')\n",
    "get_recom_tfidf('METAL 4 HOOK HANGER FRENCH CHATEAU', df_items, co_sim=cosine_sim2)"
   ]
  },
  {
   "cell_type": "markdown",
   "metadata": {
    "Collapsed": "false"
   },
   "source": [
    "I found some interesting relationships in these examples. For the first example, the similar items seem to be all related to \"light\" and \"glass\". In the second case the word \"light\" seems to be very important. In the third example the word \"box\" seems to drive the similarity suggestion as well as the combination \"set of\". The word \"hanger\", which most likely is a rare word in the dataset, seems to drive the outputs for the forth example.\n",
    "\n",
    "Overall I consider these experiments successful, for a set of models that are not a real recommender system it was possible to achieve similarity suggestions extremely useful.\n",
    "\n",
    "This part of the work ends here but in the next step I will be implementing real recommender systems using this dataset, namely collaborative filtering memory and model based.\n",
    "\n",
    "[NEXT](https://github.com/PMMAraujo/OnlineRetailII-ecommerce-project/blob/master/notebooks/collaborative_filtering.ipynb)"
   ]
  }
 ],
 "metadata": {
  "kernelspec": {
   "display_name": "learn",
   "language": "python",
   "name": "learn"
  },
  "language_info": {
   "codemirror_mode": {
    "name": "ipython",
    "version": 3
   },
   "file_extension": ".py",
   "mimetype": "text/x-python",
   "name": "python",
   "nbconvert_exporter": "python",
   "pygments_lexer": "ipython3",
   "version": "3.6.10"
  },
  "latex_envs": {
   "LaTeX_envs_menu_present": true,
   "autoclose": false,
   "autocomplete": true,
   "bibliofile": "biblio.bib",
   "cite_by": "apalike",
   "current_citInitial": 1,
   "eqLabelWithNumbers": true,
   "eqNumInitial": 1,
   "hotkeys": {
    "equation": "Ctrl-E",
    "itemize": "Ctrl-I"
   },
   "labels_anchors": false,
   "latex_user_defs": false,
   "report_style_numbering": false,
   "user_envs_cfg": false
  },
  "toc": {
   "base_numbering": 1,
   "nav_menu": {},
   "number_sections": true,
   "sideBar": true,
   "skip_h1_title": false,
   "title_cell": "Table of Contents",
   "title_sidebar": "Contents",
   "toc_cell": false,
   "toc_position": {},
   "toc_section_display": true,
   "toc_window_display": false
  },
  "varInspector": {
   "cols": {
    "lenName": 16,
    "lenType": 16,
    "lenVar": 40
   },
   "kernels_config": {
    "python": {
     "delete_cmd_postfix": "",
     "delete_cmd_prefix": "del ",
     "library": "var_list.py",
     "varRefreshCmd": "print(var_dic_list())"
    },
    "r": {
     "delete_cmd_postfix": ") ",
     "delete_cmd_prefix": "rm(",
     "library": "var_list.r",
     "varRefreshCmd": "cat(var_dic_list()) "
    }
   },
   "types_to_exclude": [
    "module",
    "function",
    "builtin_function_or_method",
    "instance",
    "_Feature"
   ],
   "window_display": false
  }
 },
 "nbformat": 4,
 "nbformat_minor": 4
}
